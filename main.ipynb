{
 "cells": [
  {
   "cell_type": "markdown",
   "id": "45821872-0790-462c-b2cd-124e786bb4f0",
   "metadata": {},
   "source": [
    "# Step 1: RNA STAR\n",
    "Here we perform sequence alignments on the input FASTQ files. This produces `.sam` files."
   ]
  },
  {
   "cell_type": "code",
   "execution_count": null,
   "id": "5e1cda9f-0f79-4d65-a85f-280d8d14b007",
   "metadata": {},
   "outputs": [],
   "source": []
  },
  {
   "cell_type": "markdown",
   "id": "f32f7068-d6d3-496f-854e-3be01da270af",
   "metadata": {},
   "source": [
    "# Step 2: sambamba\n",
    "Here we convert the `.sam` files to `.bam` files and sort them."
   ]
  },
  {
   "cell_type": "code",
   "execution_count": 8,
   "id": "443e22f6-7b33-4d29-a86a-fc3fa445ea23",
   "metadata": {},
   "outputs": [
    {
     "name": "stdout",
     "output_type": "stream",
     "text": [
      "Reading package lists... Done\n",
      "Building dependency tree... Done\n",
      "Reading state information... Done\n",
      "The following additional packages will be installed:\n",
      "  libllvm11 libphobos2-ldc-shared98\n",
      "The following NEW packages will be installed:\n",
      "  libllvm11 libphobos2-ldc-shared98 sambamba\n",
      "0 upgraded, 3 newly installed, 0 to remove and 1 not upgraded.\n",
      "Need to get 21.8 MB of archives.\n",
      "After this operation, 92.9 MB of additional disk space will be used.\n",
      "Get:1 http://mirrors.ocf.berkeley.edu/ubuntu jammy/universe amd64 libllvm11 amd64 1:11.1.0-6 [19.6 MB]\n",
      "Get:2 http://mirrors.ocf.berkeley.edu/ubuntu jammy/universe amd64 libphobos2-ldc-shared98 amd64 1:1.28.0-1ubuntu1 [1,487 kB]\n",
      "Get:3 http://mirrors.ocf.berkeley.edu/ubuntu jammy/universe amd64 sambamba amd64 0.8.2+dfsg-2 [695 kB]\n",
      "Fetched 21.8 MB in 1s (21.4 MB/s)m\u001b[33m\n",
      "\n",
      "\u001b7\u001b[0;23r\u001b8\u001b[1ASelecting previously unselected package libllvm11:amd64.\n",
      "(Reading database ... 414490 files and directories currently installed.)Reading database ... 65%(Reading database ... 70%(Reading database ... 75%(Reading database ... 80%(Reading database ... 85%(Reading database ... 90%(Reading database ... 95%(Reading database ... 100%\n",
      "Preparing to unpack .../libllvm11_1%3a11.1.0-6_amd64.deb ...\n",
      "\u001b7\u001b[24;0f\u001b[42m\u001b[30mProgress: [  0%]\u001b[49m\u001b[39m [..........................................................] \u001b8\u001b7\u001b[24;0f\u001b[42m\u001b[30mProgress: [  8%]\u001b[49m\u001b[39m [####......................................................] \u001b8Unpacking libllvm11:amd64 (1:11.1.0-6) ...\n",
      "\u001b7\u001b[24;0f\u001b[42m\u001b[30mProgress: [ 15%]\u001b[49m\u001b[39m [########..................................................] \u001b8Selecting previously unselected package libphobos2-ldc-shared98:amd64.\n",
      "Preparing to unpack .../libphobos2-ldc-shared98_1%3a1.28.0-1ubuntu1_amd64.deb ...\n",
      "\u001b7\u001b[24;0f\u001b[42m\u001b[30mProgress: [ 23%]\u001b[49m\u001b[39m [#############.............................................] \u001b8Unpacking libphobos2-ldc-shared98:amd64 (1:1.28.0-1ubuntu1) ...\n",
      "\u001b7\u001b[24;0f\u001b[42m\u001b[30mProgress: [ 31%]\u001b[49m\u001b[39m [#################.........................................] \u001b8Selecting previously unselected package sambamba.\n",
      "Preparing to unpack .../sambamba_0.8.2+dfsg-2_amd64.deb ...\n",
      "\u001b7\u001b[24;0f\u001b[42m\u001b[30mProgress: [ 38%]\u001b[49m\u001b[39m [######################....................................] \u001b8Unpacking sambamba (0.8.2+dfsg-2) ...\n",
      "\u001b7\u001b[24;0f\u001b[42m\u001b[30mProgress: [ 46%]\u001b[49m\u001b[39m [##########################................................] \u001b8Setting up libllvm11:amd64 (1:11.1.0-6) ...\n",
      "\u001b7\u001b[24;0f\u001b[42m\u001b[30mProgress: [ 54%]\u001b[49m\u001b[39m [###############################...........................] \u001b8\u001b7\u001b[24;0f\u001b[42m\u001b[30mProgress: [ 62%]\u001b[49m\u001b[39m [###################################.......................] \u001b8Setting up libphobos2-ldc-shared98:amd64 (1:1.28.0-1ubuntu1) ...\n",
      "\u001b7\u001b[24;0f\u001b[42m\u001b[30mProgress: [ 69%]\u001b[49m\u001b[39m [########################################..................] \u001b8\u001b7\u001b[24;0f\u001b[42m\u001b[30mProgress: [ 77%]\u001b[49m\u001b[39m [############################################..............] \u001b8Setting up sambamba (0.8.2+dfsg-2) ...\n",
      "\u001b7\u001b[24;0f\u001b[42m\u001b[30mProgress: [ 85%]\u001b[49m\u001b[39m [#################################################.........] \u001b8\u001b7\u001b[24;0f\u001b[42m\u001b[30mProgress: [ 92%]\u001b[49m\u001b[39m [#####################################################.....] \u001b8Processing triggers for libc-bin (2.35-0ubuntu3.8) ...\n",
      "Processing triggers for man-db (2.10.2-1) ...\n",
      "\n",
      "\u001b7\u001b[0;24r\u001b8\u001b[1A\u001b[J"
     ]
    }
   ],
   "source": [
    "!# password.txt is a text file with your password.\n",
    "!# If this gives an error (probably because you don't have sudo permissions),\n",
    "!# try running apt install -y sambamba instead.\n",
    "!sudo -S apt install -y sambamba < password.txt"
   ]
  },
  {
   "cell_type": "code",
   "execution_count": 2,
   "id": "b017d401-4698-4d93-92b4-bb6f2dd47e3e",
   "metadata": {
    "scrolled": true
   },
   "outputs": [
    {
     "name": "stdout",
     "output_type": "stream",
     "text": [
      "Processing ./sam_files/*.sam\n"
     ]
    },
    {
     "name": "stderr",
     "output_type": "stream",
     "text": [
      "bash: line 10: ./sambamba: No such file or directory\n",
      "bash: line 10: ./sambamba: No such file or directory\n"
     ]
    }
   ],
   "source": [
    "!counter=1\n",
    "\n",
    "!for sam_file in ./sam_files/*.sam; do\n",
    "!    # Process each .bam file\n",
    "!    echo \"Processing $sam_file\"\n",
    "!    output_file=\"sorted_${counter}\"\n",
    "!\n",
    "!    # Convert each sam file in ./sam_files to a bam file, and sort the bam files by name. The bam files will be  \n",
    "!    ./sambamba view -S --format=bam $sam_file | ./sambamba sort -o \"./sorted_files/sorted${counter}.bam\" /dev/stdin \n",
    "\n",
    "!    ((counter++))\n",
    "!    # Add your command to operate on the bam file here\n",
    "!done"
   ]
  },
  {
   "cell_type": "markdown",
   "id": "4d0d8c64-faac-4d28-8d94-3c469a12b556",
   "metadata": {},
   "source": [
    "# Step 3: htseq\n",
    "Here we get sequence counts, and store them in CSV files."
   ]
  },
  {
   "cell_type": "code",
   "execution_count": null,
   "id": "7da6a0f9-6026-46a0-9f20-99fa9f80c11d",
   "metadata": {},
   "outputs": [],
   "source": [
    "# Getting a list of all bam files in ./sorted_files\n",
    "bam_files=$(find ./sorted_files -type f -name \"*.bam\")\n",
    "\n",
    "# Run htseq-count with all the BAM files\n",
    "htseq-count --format=bam --order=name --stranded=yes $bam_files homo_sapien.gtf > output.csv"
   ]
  },
  {
   "cell_type": "code",
   "execution_count": null,
   "id": "39aa241f-9fa4-4f84-99e3-5e977147cef5",
   "metadata": {},
   "outputs": [],
   "source": [
    "import htseq\n",
    "import os\n",
    "import subprocess\n",
    "\n",
    "# Base directory\n",
    "project_base = '/content/drive/MyDrive/csci597k_group_project/results'\n",
    "\n",
    "# Define control and treatment directories\n",
    "directories = {\n",
    "    \"Control_01\": os.path.join(project_base, '00MatrigelCoating'),\n",
    "    \"Control_02\": os.path.join(project_base, '00PLLCoating'),\n",
    "    \"Treatment_01\": os.path.join(project_base, '01argin'),\n",
    "    \"Treatment_02\": os.path.join(project_base, '02PanLaminin'),\n",
    "    \"Treatment_03\": os.path.join(project_base, '03Laminin211'),\n",
    "    \"Treatment_04\": os.path.join(project_base, '04CollagenI'),\n",
    "}\n",
    "\n",
    "# Path to GTF file\n",
    "gtf_file = os.path.join(project_base, 'Homo_sapiens.GRCh38.133.gtf')\n",
    "\n",
    "# Loop through each directory and process the files\n",
    "for label, directory in directories.items():\n",
    "    print(f\"Processing directory: {directory}\")\n",
    "    for root, dirs, files in os.walk(directory):\n",
    "        # this should in theory run once because it will be the first file\n",
    "        for file in files:\n",
    "            # Check for the Aligned.out.sam file\n",
    "            if file == \"Aligned.out.sam\":\n",
    "                # Construct full path to the SAM file\n",
    "                sam_file_path = os.path.join(root, file)\n",
    "\n",
    "                # Define the output file path\n",
    "                output_file = os.path.join(root, f\"{label}_htseq_counts.txt\")\n",
    "\n",
    "                # Construct the htseq-count command\n",
    "                command = [\n",
    "                    \"htseq-count\",\n",
    "                    \"-f\", \"sam\",\n",
    "                    \"-r\", \"name\",\n",
    "                    \"-s\", \"yes\",  # Change to 'yes' or 'reverse' based on your data\n",
    "                    sam_file_path,\n",
    "                    gtf_file\n",
    "                ]\n",
    "\n",
    "                # Run htseq-count and save the output to a file\n",
    "                print(f\"Running htseq-count for: {sam_file_path}\")\n",
    "                with open(output_file, \"w\") as out:\n",
    "                    subprocess.run(command, stdout=out, stderr=subprocess.PIPE)\n",
    "\n",
    "                print(f\"htseq-count completed for {label}. Results saved to {output_file}\")"
   ]
  },
  {
   "cell_type": "code",
   "execution_count": null,
   "id": "35d9670c-54cb-4d2b-a26e-fa923bc6548d",
   "metadata": {},
   "outputs": [],
   "source": []
  }
 ],
 "metadata": {
  "kernelspec": {
   "display_name": "Python 3 (ipykernel)",
   "language": "python",
   "name": "python3"
  },
  "language_info": {
   "codemirror_mode": {
    "name": "ipython",
    "version": 3
   },
   "file_extension": ".py",
   "mimetype": "text/x-python",
   "name": "python",
   "nbconvert_exporter": "python",
   "pygments_lexer": "ipython3",
   "version": "3.10.12"
  }
 },
 "nbformat": 4,
 "nbformat_minor": 5
}
